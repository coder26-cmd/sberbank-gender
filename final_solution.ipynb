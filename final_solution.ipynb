{
  "cells": [
    {
      "cell_type": "markdown",
      "metadata": {
        "id": "H211VO45y3re"
      },
      "source": [
        "<small><font color=gray>Notebook author: <a href=\"https://www.linkedin.com/in/olegmelnikov/\" target=\"_blank\">Oleg Melnikov</a>\n",
        "\n",
        "**[<font size=6>💳Mr. and Mrs. Client (MaMC)</font>](https://www.kaggle.com/competitions/26jun23/rules)**. [**Instructions**](https://colab.research.google.com/drive/1riOGrE_Fv-yfIbM5V4pgJx4DWcd92cZr#scrollTo=ITaPDPIQEgXV) for running Colabs."
      ]
    },
    {
      "cell_type": "markdown",
      "metadata": {
        "id": "B9WbQS1vzgf5"
      },
      "source": [
        "<small>**(Optional) CONSENT.** <mark>[  ]</mark> We consent to sharing our Colab (after the assignment ends) with other students/instructors for educational purposes. We understand that sharing is optional and this decision will not affect our grade in any way. <font color=gray><i>(If ok with sharing your Colab for educational purposes, leave \"X\" in the check box.)</i></font></small>"
      ]
    },
    {
      "cell_type": "code",
      "execution_count": null,
      "metadata": {
        "id": "CT3dcYSxxx_K",
        "colab": {
          "base_uri": "https://localhost:8080/"
        },
        "outputId": "8fddf11d-f745-4655-dbf6-e1fd0def18af"
      },
      "outputs": [
        {
          "output_type": "stream",
          "name": "stdout",
          "text": [
            "Mounted at /content/drive\n"
          ]
        }
      ],
      "source": [
        "from google.colab import drive; drive.mount('/content/drive')   # OK to enable, if your kaggle.json is stored in Google Drive"
      ]
    },
    {
      "cell_type": "code",
      "execution_count": null,
      "metadata": {
        "colab": {
          "base_uri": "https://localhost:8080/"
        },
        "id": "FuKXMRjsyxoK",
        "outputId": "e6995a44-5d10-426f-c625-f517bd6e65ec"
      },
      "outputs": [
        {
          "output_type": "stream",
          "name": "stdout",
          "text": [
            "cp: cannot stat 'kaggle.json': No such file or directory\n",
            "- competition is now set to: 26jun23\n",
            "100% 35.7M/35.7M [00:00<00:00, 308MB/s]\n",
            "Using competition: 26jun23\n",
            "  teamId  teamName                       submissionDate       score    \n",
            "--------  -----------------------------  -------------------  -------  \n",
            "10612706  Michael Kondrashov             2023-06-30 11:34:09  0.88424  \n",
            "10612695  Logistic Depression [12]       2023-06-30 12:39:10  0.88402  \n",
            "10614699  Dmitriy Geyzha                 2023-06-30 11:59:52  0.87769  \n",
            "10616508  Zа БVИ [8]                     2023-06-30 12:24:49  0.87710  \n",
            "10614521  Konstantin Zeigman             2023-06-30 11:37:17  0.87691  \n",
            "10612698  Бобы                           2023-06-30 10:43:59  0.87539  \n",
            "10617156  Team 5                         2023-06-30 11:08:02  0.87355  \n",
            "10618717  Team1                          2023-06-30 12:29:16  0.87097  \n",
            "10613713  Mikhail Vovk                   2023-06-30 12:35:15  0.86481  \n",
            "10612703  Пельмени (Хомяков и Ткачев)    2023-06-30 11:44:45  0.85912  \n",
            "10618350  Seleznev Nikita                2023-06-29 12:18:15  0.85792  \n",
            "10617148  Vladimir Babushkin             2023-06-29 21:13:06  0.85571  \n",
            "10623729  Артём Гуйван                   2023-06-30 12:15:33  0.85374  \n",
            "10617279  Alex Rasskazchikov             2023-06-30 12:44:50  0.85111  \n",
            "10626468  Sonya Ryabova                  2023-06-30 11:59:46  0.83720  \n",
            "10612716  Luka Duvanov & Fedorova Maria  2023-06-30 11:13:44  0.81829  \n",
            "10617093  Андрей Тынков                  2023-06-30 10:36:30  0.77979  \n",
            "10617114  Ксения Шкулева                 2023-06-30 12:29:26  0.77946  \n",
            "10612789  Liz_Margo_Mila 6               2023-06-30 11:44:42  0.77463  \n",
            "10612678  Чистяков Лев                   2023-06-28 11:40:57  0.76747  \n",
            "10620827  Name_7                         2023-06-29 14:09:30  0.74947  \n",
            "10614297  ГУСИ                           2023-06-30 11:09:38  0.69533  \n",
            "10622182  vlligo                         2023-06-30 12:18:31  0.69239  \n",
            "10617643  Pavel Efimov                   2023-06-29 21:35:28  0.55018  \n",
            "10605413  💳baseline,LR:$Stat+MCCEnc      2023-06-25 18:15:10  0.53220  \n"
          ]
        }
      ],
      "source": [
        "!pip -q install --upgrade --force-reinstall --no-deps kaggle > log  # upgrade kaggle package (to avoid a warning)\n",
        "!mkdir -p ~/.kaggle                                           # .kaggle folder must contain kaggle.json for kaggle executable to properly authenticate you to Kaggle.com\n",
        "!cp /content/drive/MyDrive/kaggle.json ~/.kaggle/kaggle.json >log  # First, download kaggle.json from kaggle.com (in Account page) and place it in the root of mounted Google Drive\n",
        "!cp kaggle.json ~/.kaggle/kaggle.json > log                   # Alternative location of kaggle.json (without a connection to Google Drive)\n",
        "!chmod 600 ~/.kaggle/kaggle.json                              # give only the owner full read/write access to kaggle.json\n",
        "!kaggle config set -n competition -v 26jun23                  # set the competition context for the next few kaggle API calls. !kaggle config view - shows current settings\n",
        "!kaggle competitions download >> log                          # download competition dataset as a zip file\n",
        "!unzip -o *.zip >> log                                        # Kaggle dataset is copied as a single file and needs to be unzipped.\n",
        "!kaggle competitions leaderboard --show                       # print public leaderboard"
      ]
    },
    {
      "cell_type": "code",
      "execution_count": null,
      "metadata": {
        "colab": {
          "base_uri": "https://localhost:8080/"
        },
        "id": "lOhT2o18yxld",
        "outputId": "37f2accd-0979-4768-9a57-380088ce685c"
      },
      "outputs": [
        {
          "output_type": "stream",
          "name": "stdout",
          "text": [
            "CPU times: user 8.18 s, sys: 1.01 s, total: 9.19 s\n",
            "Wall time: 1min 12s\n"
          ]
        }
      ],
      "source": [
        "%%time\n",
        "%%capture\n",
        "%reset -f\n",
        "!pip install -U sentence-transformers tfds-nightly tensorflow tensorflow_addons plotly > log\n",
        "from IPython.core.interactiveshell import InteractiveShell as IS; IS.ast_node_interactivity = \"all\"  # allows multiple prints from a cell\n",
        "import numpy as np, pandas as pd, time, matplotlib.pyplot as plt, os, plotly.express as px, xgboost as xgb, lightgbm, re, tensorflow as tf, tensorflow.keras as keras\n",
        "from sklearn.preprocessing import MinMaxScaler, PolynomialFeatures\n",
        "from sklearn.model_selection import train_test_split, GroupKFold\n",
        "from sklearn.linear_model import LogisticRegression as LR\n",
        "from sklearn.metrics import roc_auc_score\n",
        "from sklearn.decomposition import PCA\n",
        "from sklearn.neural_network import MLPClassifier   # SKLearn's MLP is optimised for CPU (and doesn't use GPU)\n",
        "from sentence_transformers import SentenceTransformer as SBERT\n",
        "from keras.layers import Flatten, Dense\n",
        "\n",
        "os.environ['TF_DETERMINISTIC_OPS'] = '1'; os.environ['TF_CUDNN_DETERMINISTIC'] = '1'   # helps to seed TF's RNG on GPUs\n",
        "np.set_printoptions(linewidth=10000, precision=2, edgeitems=20, suppress=True)\n",
        "pd.set_option('display.max_colwidth', 100, 'display.max_columns', 10, 'display.width', 1000, 'display.max_rows', 8)\n",
        "\n",
        "class Timer():\n",
        "  def __init__(self, lim:'RunTimeLimit'=60*2): self.t0, self.lim, _ = time.time(), lim, print(f'⏳ started. You have {lim} sec. Good luck!')\n",
        "  def ShowTime(self):\n",
        "    msg = f'Runtime is {time.time()-self.t0:.0f} sec'\n",
        "    print(f'\\033[91m\\033[1m' + msg + f' > {self.lim} sec limit!!!\\033[0m' if (time.time()-self.t0-1) > self.lim else msg)"
      ]
    },
    {
      "cell_type": "code",
      "execution_count": null,
      "metadata": {
        "colab": {
          "base_uri": "https://localhost:8080/",
          "height": 297
        },
        "id": "Y6jdIdKjpTpT",
        "outputId": "a5734564-db3f-4a82-9443-1bd535671ff8"
      },
      "outputs": [
        {
          "output_type": "stream",
          "name": "stdout",
          "text": [
            "CPU times: user 5.39 ms, sys: 774 µs, total: 6.16 ms\n",
            "Wall time: 23.8 ms\n"
          ]
        },
        {
          "output_type": "execute_result",
          "data": {
            "text/plain": [
              "mcc                   0                                                                    1                            2                                                                            3                                         4    ...                                                    179     180                181                                                        182                                     183\n",
              "desc  Ветеринарные услуги  Генеральные подрядчики по вентиляции, теплоснабжению, и водопроводу  Подрядчики по электричеству  Подрядчики, специализированная торговля — нигде более не классифицированные  Разнообразные издательства/печатное дело  ...  Судовые выплаты, включая алименты и детскую поддержку  Штрафы  Налоговые платежи  Правительственные услуги, нигде ранее не классифицируемые  Почтовые услуги — только правительство\n",
              "\n",
              "[1 rows x 184 columns]"
            ],
            "text/html": [
              "\n",
              "  <div id=\"df-93d99513-c3ce-4366-a6af-3dfdbc07a160\">\n",
              "    <div class=\"colab-df-container\">\n",
              "      <div>\n",
              "<style scoped>\n",
              "    .dataframe tbody tr th:only-of-type {\n",
              "        vertical-align: middle;\n",
              "    }\n",
              "\n",
              "    .dataframe tbody tr th {\n",
              "        vertical-align: top;\n",
              "    }\n",
              "\n",
              "    .dataframe thead th {\n",
              "        text-align: right;\n",
              "    }\n",
              "</style>\n",
              "<table border=\"1\" class=\"dataframe\">\n",
              "  <thead>\n",
              "    <tr style=\"text-align: right;\">\n",
              "      <th>mcc</th>\n",
              "      <th>0</th>\n",
              "      <th>1</th>\n",
              "      <th>2</th>\n",
              "      <th>3</th>\n",
              "      <th>4</th>\n",
              "      <th>...</th>\n",
              "      <th>179</th>\n",
              "      <th>180</th>\n",
              "      <th>181</th>\n",
              "      <th>182</th>\n",
              "      <th>183</th>\n",
              "    </tr>\n",
              "  </thead>\n",
              "  <tbody>\n",
              "    <tr>\n",
              "      <th>desc</th>\n",
              "      <td>Ветеринарные услуги</td>\n",
              "      <td>Генеральные подрядчики по вентиляции, теплоснабжению, и водопроводу</td>\n",
              "      <td>Подрядчики по электричеству</td>\n",
              "      <td>Подрядчики, специализированная торговля — нигде более не классифицированные</td>\n",
              "      <td>Разнообразные издательства/печатное дело</td>\n",
              "      <td>...</td>\n",
              "      <td>Судовые выплаты, включая алименты и детскую поддержку</td>\n",
              "      <td>Штрафы</td>\n",
              "      <td>Налоговые платежи</td>\n",
              "      <td>Правительственные услуги, нигде ранее не классифицируемые</td>\n",
              "      <td>Почтовые услуги — только правительство</td>\n",
              "    </tr>\n",
              "  </tbody>\n",
              "</table>\n",
              "<p>1 rows × 184 columns</p>\n",
              "</div>\n",
              "      <button class=\"colab-df-convert\" onclick=\"convertToInteractive('df-93d99513-c3ce-4366-a6af-3dfdbc07a160')\"\n",
              "              title=\"Convert this dataframe to an interactive table.\"\n",
              "              style=\"display:none;\">\n",
              "        \n",
              "  <svg xmlns=\"http://www.w3.org/2000/svg\" height=\"24px\"viewBox=\"0 0 24 24\"\n",
              "       width=\"24px\">\n",
              "    <path d=\"M0 0h24v24H0V0z\" fill=\"none\"/>\n",
              "    <path d=\"M18.56 5.44l.94 2.06.94-2.06 2.06-.94-2.06-.94-.94-2.06-.94 2.06-2.06.94zm-11 1L8.5 8.5l.94-2.06 2.06-.94-2.06-.94L8.5 2.5l-.94 2.06-2.06.94zm10 10l.94 2.06.94-2.06 2.06-.94-2.06-.94-.94-2.06-.94 2.06-2.06.94z\"/><path d=\"M17.41 7.96l-1.37-1.37c-.4-.4-.92-.59-1.43-.59-.52 0-1.04.2-1.43.59L10.3 9.45l-7.72 7.72c-.78.78-.78 2.05 0 2.83L4 21.41c.39.39.9.59 1.41.59.51 0 1.02-.2 1.41-.59l7.78-7.78 2.81-2.81c.8-.78.8-2.07 0-2.86zM5.41 20L4 18.59l7.72-7.72 1.47 1.35L5.41 20z\"/>\n",
              "  </svg>\n",
              "      </button>\n",
              "      \n",
              "  <style>\n",
              "    .colab-df-container {\n",
              "      display:flex;\n",
              "      flex-wrap:wrap;\n",
              "      gap: 12px;\n",
              "    }\n",
              "\n",
              "    .colab-df-convert {\n",
              "      background-color: #E8F0FE;\n",
              "      border: none;\n",
              "      border-radius: 50%;\n",
              "      cursor: pointer;\n",
              "      display: none;\n",
              "      fill: #1967D2;\n",
              "      height: 32px;\n",
              "      padding: 0 0 0 0;\n",
              "      width: 32px;\n",
              "    }\n",
              "\n",
              "    .colab-df-convert:hover {\n",
              "      background-color: #E2EBFA;\n",
              "      box-shadow: 0px 1px 2px rgba(60, 64, 67, 0.3), 0px 1px 3px 1px rgba(60, 64, 67, 0.15);\n",
              "      fill: #174EA6;\n",
              "    }\n",
              "\n",
              "    [theme=dark] .colab-df-convert {\n",
              "      background-color: #3B4455;\n",
              "      fill: #D2E3FC;\n",
              "    }\n",
              "\n",
              "    [theme=dark] .colab-df-convert:hover {\n",
              "      background-color: #434B5C;\n",
              "      box-shadow: 0px 1px 3px 1px rgba(0, 0, 0, 0.15);\n",
              "      filter: drop-shadow(0px 1px 2px rgba(0, 0, 0, 0.3));\n",
              "      fill: #FFFFFF;\n",
              "    }\n",
              "  </style>\n",
              "\n",
              "      <script>\n",
              "        const buttonEl =\n",
              "          document.querySelector('#df-93d99513-c3ce-4366-a6af-3dfdbc07a160 button.colab-df-convert');\n",
              "        buttonEl.style.display =\n",
              "          google.colab.kernel.accessAllowed ? 'block' : 'none';\n",
              "\n",
              "        async function convertToInteractive(key) {\n",
              "          const element = document.querySelector('#df-93d99513-c3ce-4366-a6af-3dfdbc07a160');\n",
              "          const dataTable =\n",
              "            await google.colab.kernel.invokeFunction('convertToInteractive',\n",
              "                                                     [key], {});\n",
              "          if (!dataTable) return;\n",
              "\n",
              "          const docLinkHtml = 'Like what you see? Visit the ' +\n",
              "            '<a target=\"_blank\" href=https://colab.research.google.com/notebooks/data_table.ipynb>data table notebook</a>'\n",
              "            + ' to learn more about interactive tables.';\n",
              "          element.innerHTML = '';\n",
              "          dataTable['output_type'] = 'display_data';\n",
              "          await google.colab.output.renderOutput(dataTable, element);\n",
              "          const docLink = document.createElement('div');\n",
              "          docLink.innerHTML = docLinkHtml;\n",
              "          element.appendChild(docLink);\n",
              "        }\n",
              "      </script>\n",
              "    </div>\n",
              "  </div>\n",
              "  "
            ]
          },
          "metadata": {},
          "execution_count": 4
        }
      ],
      "source": [
        "%time mcc = pd.read_csv('_mcc.csv', index_col='mcc'); mcc.T  # load merchant category codes (MCC)"
      ]
    },
    {
      "cell_type": "code",
      "execution_count": null,
      "metadata": {
        "colab": {
          "base_uri": "https://localhost:8080/",
          "height": 346
        },
        "id": "Ub5j-lxzpzoz",
        "outputId": "9d6f3445-c99f-4c01-ab0b-d69ee0e358f2"
      },
      "outputs": [
        {
          "output_type": "stream",
          "name": "stdout",
          "text": [
            "CPU times: user 3.98 ms, sys: 0 ns, total: 3.98 ms\n",
            "Wall time: 4.97 ms\n"
          ]
        },
        {
          "output_type": "execute_result",
          "data": {
            "text/plain": [
              "ttc                0                      1                               2                    3                       4    ...                                        150                              151                                                                                                  152                                                                         153  154\n",
              "desc  Покупка.ТУ СБ РФ  Покупка. POS ТУ СБ РФ  Оплата услуги. Банкоматы СБ РФ  Покупка. ТУ  Россия  Покупка. POS ТУ Россия  ...  Урегулирование безнадежной задолженности   Плата за приост. действия карты  Плата за обработку счета банковской карты клиента при осущ. платежной системой экстренной выдачи...  Плата за предоставление по запросу клиента документов по операции с картой  XXX\n",
              "\n",
              "[1 rows x 155 columns]"
            ],
            "text/html": [
              "\n",
              "  <div id=\"df-2648dffe-437c-4d8b-9850-b75a6cae41e5\">\n",
              "    <div class=\"colab-df-container\">\n",
              "      <div>\n",
              "<style scoped>\n",
              "    .dataframe tbody tr th:only-of-type {\n",
              "        vertical-align: middle;\n",
              "    }\n",
              "\n",
              "    .dataframe tbody tr th {\n",
              "        vertical-align: top;\n",
              "    }\n",
              "\n",
              "    .dataframe thead th {\n",
              "        text-align: right;\n",
              "    }\n",
              "</style>\n",
              "<table border=\"1\" class=\"dataframe\">\n",
              "  <thead>\n",
              "    <tr style=\"text-align: right;\">\n",
              "      <th>ttc</th>\n",
              "      <th>0</th>\n",
              "      <th>1</th>\n",
              "      <th>2</th>\n",
              "      <th>3</th>\n",
              "      <th>4</th>\n",
              "      <th>...</th>\n",
              "      <th>150</th>\n",
              "      <th>151</th>\n",
              "      <th>152</th>\n",
              "      <th>153</th>\n",
              "      <th>154</th>\n",
              "    </tr>\n",
              "  </thead>\n",
              "  <tbody>\n",
              "    <tr>\n",
              "      <th>desc</th>\n",
              "      <td>Покупка.ТУ СБ РФ</td>\n",
              "      <td>Покупка. POS ТУ СБ РФ</td>\n",
              "      <td>Оплата услуги. Банкоматы СБ РФ</td>\n",
              "      <td>Покупка. ТУ  Россия</td>\n",
              "      <td>Покупка. POS ТУ Россия</td>\n",
              "      <td>...</td>\n",
              "      <td>Урегулирование безнадежной задолженности</td>\n",
              "      <td>Плата за приост. действия карты</td>\n",
              "      <td>Плата за обработку счета банковской карты клиента при осущ. платежной системой экстренной выдачи...</td>\n",
              "      <td>Плата за предоставление по запросу клиента документов по операции с картой</td>\n",
              "      <td>XXX</td>\n",
              "    </tr>\n",
              "  </tbody>\n",
              "</table>\n",
              "<p>1 rows × 155 columns</p>\n",
              "</div>\n",
              "      <button class=\"colab-df-convert\" onclick=\"convertToInteractive('df-2648dffe-437c-4d8b-9850-b75a6cae41e5')\"\n",
              "              title=\"Convert this dataframe to an interactive table.\"\n",
              "              style=\"display:none;\">\n",
              "        \n",
              "  <svg xmlns=\"http://www.w3.org/2000/svg\" height=\"24px\"viewBox=\"0 0 24 24\"\n",
              "       width=\"24px\">\n",
              "    <path d=\"M0 0h24v24H0V0z\" fill=\"none\"/>\n",
              "    <path d=\"M18.56 5.44l.94 2.06.94-2.06 2.06-.94-2.06-.94-.94-2.06-.94 2.06-2.06.94zm-11 1L8.5 8.5l.94-2.06 2.06-.94-2.06-.94L8.5 2.5l-.94 2.06-2.06.94zm10 10l.94 2.06.94-2.06 2.06-.94-2.06-.94-.94-2.06-.94 2.06-2.06.94z\"/><path d=\"M17.41 7.96l-1.37-1.37c-.4-.4-.92-.59-1.43-.59-.52 0-1.04.2-1.43.59L10.3 9.45l-7.72 7.72c-.78.78-.78 2.05 0 2.83L4 21.41c.39.39.9.59 1.41.59.51 0 1.02-.2 1.41-.59l7.78-7.78 2.81-2.81c.8-.78.8-2.07 0-2.86zM5.41 20L4 18.59l7.72-7.72 1.47 1.35L5.41 20z\"/>\n",
              "  </svg>\n",
              "      </button>\n",
              "      \n",
              "  <style>\n",
              "    .colab-df-container {\n",
              "      display:flex;\n",
              "      flex-wrap:wrap;\n",
              "      gap: 12px;\n",
              "    }\n",
              "\n",
              "    .colab-df-convert {\n",
              "      background-color: #E8F0FE;\n",
              "      border: none;\n",
              "      border-radius: 50%;\n",
              "      cursor: pointer;\n",
              "      display: none;\n",
              "      fill: #1967D2;\n",
              "      height: 32px;\n",
              "      padding: 0 0 0 0;\n",
              "      width: 32px;\n",
              "    }\n",
              "\n",
              "    .colab-df-convert:hover {\n",
              "      background-color: #E2EBFA;\n",
              "      box-shadow: 0px 1px 2px rgba(60, 64, 67, 0.3), 0px 1px 3px 1px rgba(60, 64, 67, 0.15);\n",
              "      fill: #174EA6;\n",
              "    }\n",
              "\n",
              "    [theme=dark] .colab-df-convert {\n",
              "      background-color: #3B4455;\n",
              "      fill: #D2E3FC;\n",
              "    }\n",
              "\n",
              "    [theme=dark] .colab-df-convert:hover {\n",
              "      background-color: #434B5C;\n",
              "      box-shadow: 0px 1px 3px 1px rgba(0, 0, 0, 0.15);\n",
              "      filter: drop-shadow(0px 1px 2px rgba(0, 0, 0, 0.3));\n",
              "      fill: #FFFFFF;\n",
              "    }\n",
              "  </style>\n",
              "\n",
              "      <script>\n",
              "        const buttonEl =\n",
              "          document.querySelector('#df-2648dffe-437c-4d8b-9850-b75a6cae41e5 button.colab-df-convert');\n",
              "        buttonEl.style.display =\n",
              "          google.colab.kernel.accessAllowed ? 'block' : 'none';\n",
              "\n",
              "        async function convertToInteractive(key) {\n",
              "          const element = document.querySelector('#df-2648dffe-437c-4d8b-9850-b75a6cae41e5');\n",
              "          const dataTable =\n",
              "            await google.colab.kernel.invokeFunction('convertToInteractive',\n",
              "                                                     [key], {});\n",
              "          if (!dataTable) return;\n",
              "\n",
              "          const docLinkHtml = 'Like what you see? Visit the ' +\n",
              "            '<a target=\"_blank\" href=https://colab.research.google.com/notebooks/data_table.ipynb>data table notebook</a>'\n",
              "            + ' to learn more about interactive tables.';\n",
              "          element.innerHTML = '';\n",
              "          dataTable['output_type'] = 'display_data';\n",
              "          await google.colab.output.renderOutput(dataTable, element);\n",
              "          const docLink = document.createElement('div');\n",
              "          docLink.innerHTML = docLinkHtml;\n",
              "          element.appendChild(docLink);\n",
              "        }\n",
              "      </script>\n",
              "    </div>\n",
              "  </div>\n",
              "  "
            ]
          },
          "metadata": {},
          "execution_count": 5
        }
      ],
      "source": [
        "%time ttc = pd.read_csv('_ttc.csv', index_col='ttc'); ttc.T  # load transaction type codes (TTC)"
      ]
    },
    {
      "cell_type": "code",
      "execution_count": null,
      "metadata": {
        "colab": {
          "base_uri": "https://localhost:8080/",
          "height": 146
        },
        "id": "5ip8I5XHzYfZ",
        "outputId": "519e1300-fa05-4e83-ac61-65a51006c9d4"
      },
      "outputs": [
        {
          "output_type": "stream",
          "name": "stdout",
          "text": [
            "CPU times: user 4.22 ms, sys: 20 µs, total: 4.24 ms\n",
            "Wall time: 4.53 ms\n"
          ]
        },
        {
          "output_type": "execute_result",
          "data": {
            "text/plain": [
              "cid     0     1     2     3     4     ...  8395  8396  8397  8398  8399\n",
              "gender   NaN   NaN   NaN   NaN   NaN  ...   0.0   0.0   1.0   0.0   0.0\n",
              "\n",
              "[1 rows x 8400 columns]"
            ],
            "text/html": [
              "\n",
              "  <div id=\"df-94220144-10ae-4cc9-8690-320c8888b496\">\n",
              "    <div class=\"colab-df-container\">\n",
              "      <div>\n",
              "<style scoped>\n",
              "    .dataframe tbody tr th:only-of-type {\n",
              "        vertical-align: middle;\n",
              "    }\n",
              "\n",
              "    .dataframe tbody tr th {\n",
              "        vertical-align: top;\n",
              "    }\n",
              "\n",
              "    .dataframe thead th {\n",
              "        text-align: right;\n",
              "    }\n",
              "</style>\n",
              "<table border=\"1\" class=\"dataframe\">\n",
              "  <thead>\n",
              "    <tr style=\"text-align: right;\">\n",
              "      <th>cid</th>\n",
              "      <th>0</th>\n",
              "      <th>1</th>\n",
              "      <th>2</th>\n",
              "      <th>3</th>\n",
              "      <th>4</th>\n",
              "      <th>...</th>\n",
              "      <th>8395</th>\n",
              "      <th>8396</th>\n",
              "      <th>8397</th>\n",
              "      <th>8398</th>\n",
              "      <th>8399</th>\n",
              "    </tr>\n",
              "  </thead>\n",
              "  <tbody>\n",
              "    <tr>\n",
              "      <th>gender</th>\n",
              "      <td>NaN</td>\n",
              "      <td>NaN</td>\n",
              "      <td>NaN</td>\n",
              "      <td>NaN</td>\n",
              "      <td>NaN</td>\n",
              "      <td>...</td>\n",
              "      <td>0.0</td>\n",
              "      <td>0.0</td>\n",
              "      <td>1.0</td>\n",
              "      <td>0.0</td>\n",
              "      <td>0.0</td>\n",
              "    </tr>\n",
              "  </tbody>\n",
              "</table>\n",
              "<p>1 rows × 8400 columns</p>\n",
              "</div>\n",
              "      <button class=\"colab-df-convert\" onclick=\"convertToInteractive('df-94220144-10ae-4cc9-8690-320c8888b496')\"\n",
              "              title=\"Convert this dataframe to an interactive table.\"\n",
              "              style=\"display:none;\">\n",
              "        \n",
              "  <svg xmlns=\"http://www.w3.org/2000/svg\" height=\"24px\"viewBox=\"0 0 24 24\"\n",
              "       width=\"24px\">\n",
              "    <path d=\"M0 0h24v24H0V0z\" fill=\"none\"/>\n",
              "    <path d=\"M18.56 5.44l.94 2.06.94-2.06 2.06-.94-2.06-.94-.94-2.06-.94 2.06-2.06.94zm-11 1L8.5 8.5l.94-2.06 2.06-.94-2.06-.94L8.5 2.5l-.94 2.06-2.06.94zm10 10l.94 2.06.94-2.06 2.06-.94-2.06-.94-.94-2.06-.94 2.06-2.06.94z\"/><path d=\"M17.41 7.96l-1.37-1.37c-.4-.4-.92-.59-1.43-.59-.52 0-1.04.2-1.43.59L10.3 9.45l-7.72 7.72c-.78.78-.78 2.05 0 2.83L4 21.41c.39.39.9.59 1.41.59.51 0 1.02-.2 1.41-.59l7.78-7.78 2.81-2.81c.8-.78.8-2.07 0-2.86zM5.41 20L4 18.59l7.72-7.72 1.47 1.35L5.41 20z\"/>\n",
              "  </svg>\n",
              "      </button>\n",
              "      \n",
              "  <style>\n",
              "    .colab-df-container {\n",
              "      display:flex;\n",
              "      flex-wrap:wrap;\n",
              "      gap: 12px;\n",
              "    }\n",
              "\n",
              "    .colab-df-convert {\n",
              "      background-color: #E8F0FE;\n",
              "      border: none;\n",
              "      border-radius: 50%;\n",
              "      cursor: pointer;\n",
              "      display: none;\n",
              "      fill: #1967D2;\n",
              "      height: 32px;\n",
              "      padding: 0 0 0 0;\n",
              "      width: 32px;\n",
              "    }\n",
              "\n",
              "    .colab-df-convert:hover {\n",
              "      background-color: #E2EBFA;\n",
              "      box-shadow: 0px 1px 2px rgba(60, 64, 67, 0.3), 0px 1px 3px 1px rgba(60, 64, 67, 0.15);\n",
              "      fill: #174EA6;\n",
              "    }\n",
              "\n",
              "    [theme=dark] .colab-df-convert {\n",
              "      background-color: #3B4455;\n",
              "      fill: #D2E3FC;\n",
              "    }\n",
              "\n",
              "    [theme=dark] .colab-df-convert:hover {\n",
              "      background-color: #434B5C;\n",
              "      box-shadow: 0px 1px 3px 1px rgba(0, 0, 0, 0.15);\n",
              "      filter: drop-shadow(0px 1px 2px rgba(0, 0, 0, 0.3));\n",
              "      fill: #FFFFFF;\n",
              "    }\n",
              "  </style>\n",
              "\n",
              "      <script>\n",
              "        const buttonEl =\n",
              "          document.querySelector('#df-94220144-10ae-4cc9-8690-320c8888b496 button.colab-df-convert');\n",
              "        buttonEl.style.display =\n",
              "          google.colab.kernel.accessAllowed ? 'block' : 'none';\n",
              "\n",
              "        async function convertToInteractive(key) {\n",
              "          const element = document.querySelector('#df-94220144-10ae-4cc9-8690-320c8888b496');\n",
              "          const dataTable =\n",
              "            await google.colab.kernel.invokeFunction('convertToInteractive',\n",
              "                                                     [key], {});\n",
              "          if (!dataTable) return;\n",
              "\n",
              "          const docLinkHtml = 'Like what you see? Visit the ' +\n",
              "            '<a target=\"_blank\" href=https://colab.research.google.com/notebooks/data_table.ipynb>data table notebook</a>'\n",
              "            + ' to learn more about interactive tables.';\n",
              "          element.innerHTML = '';\n",
              "          dataTable['output_type'] = 'display_data';\n",
              "          await google.colab.output.renderOutput(dataTable, element);\n",
              "          const docLink = document.createElement('div');\n",
              "          docLink.innerHTML = docLinkHtml;\n",
              "          element.appendChild(docLink);\n",
              "        }\n",
              "      </script>\n",
              "    </div>\n",
              "  </div>\n",
              "  "
            ]
          },
          "metadata": {},
          "execution_count": 6
        }
      ],
      "source": [
        "%time gender = pd.read_csv('gender.csv', index_col='cid'); gender.T  # load gender labels. you need to predict the missing labels\n",
        "tY, vY = gender.query('gender==gender'), gender.query('gender!=gender')  # split into Train and test (=Validation) targets"
      ]
    },
    {
      "cell_type": "code",
      "execution_count": null,
      "metadata": {
        "colab": {
          "base_uri": "https://localhost:8080/",
          "height": 334
        },
        "id": "7VA1oBPyyxii",
        "outputId": "6a0eb1ed-a671-45e6-9017-23ff40d42a6b"
      },
      "outputs": [
        {
          "output_type": "stream",
          "name": "stdout",
          "text": [
            "CPU times: user 17.2 s, sys: 1.55 s, total: 18.7 s\n",
            "Wall time: 29.1 s\n"
          ]
        },
        {
          "output_type": "execute_result",
          "data": {
            "text/plain": [
              "      0         1         2         3         4        ...   3749573   3749574   3749575   3749576   3749577\n",
              "cid         0         0         0         0         0  ...      8399      8399      8399      8399      8399\n",
              "dt          1         1         2         3         3  ...       450       450       456       456       456\n",
              "tm   00:00:00  00:00:00  22:48:17  00:00:00  00:00:00  ...  00:00:00  00:00:00  17:21:07  18:59:26  19:01:21\n",
              "amt     -1305     -4821    -56156     -3708    -30912  ...    -21877    -43831     89833    247062   -336874\n",
              "mcc        56        56        22        56        65  ...        56        56       123       124        22\n",
              "ttc         4         4        37         4         4  ...         4         4       128       108        25\n",
              "tid       NaN       NaN       NaN       NaN       NaN  ...  25021545  PS026577    888917    738051    738051\n",
              "\n",
              "[7 rows x 3749578 columns]"
            ],
            "text/html": [
              "\n",
              "  <div id=\"df-264aedac-e170-4085-885d-acfd1de6c5d3\">\n",
              "    <div class=\"colab-df-container\">\n",
              "      <div>\n",
              "<style scoped>\n",
              "    .dataframe tbody tr th:only-of-type {\n",
              "        vertical-align: middle;\n",
              "    }\n",
              "\n",
              "    .dataframe tbody tr th {\n",
              "        vertical-align: top;\n",
              "    }\n",
              "\n",
              "    .dataframe thead th {\n",
              "        text-align: right;\n",
              "    }\n",
              "</style>\n",
              "<table border=\"1\" class=\"dataframe\">\n",
              "  <thead>\n",
              "    <tr style=\"text-align: right;\">\n",
              "      <th></th>\n",
              "      <th>0</th>\n",
              "      <th>1</th>\n",
              "      <th>2</th>\n",
              "      <th>3</th>\n",
              "      <th>4</th>\n",
              "      <th>...</th>\n",
              "      <th>3749573</th>\n",
              "      <th>3749574</th>\n",
              "      <th>3749575</th>\n",
              "      <th>3749576</th>\n",
              "      <th>3749577</th>\n",
              "    </tr>\n",
              "  </thead>\n",
              "  <tbody>\n",
              "    <tr>\n",
              "      <th>cid</th>\n",
              "      <td>0</td>\n",
              "      <td>0</td>\n",
              "      <td>0</td>\n",
              "      <td>0</td>\n",
              "      <td>0</td>\n",
              "      <td>...</td>\n",
              "      <td>8399</td>\n",
              "      <td>8399</td>\n",
              "      <td>8399</td>\n",
              "      <td>8399</td>\n",
              "      <td>8399</td>\n",
              "    </tr>\n",
              "    <tr>\n",
              "      <th>dt</th>\n",
              "      <td>1</td>\n",
              "      <td>1</td>\n",
              "      <td>2</td>\n",
              "      <td>3</td>\n",
              "      <td>3</td>\n",
              "      <td>...</td>\n",
              "      <td>450</td>\n",
              "      <td>450</td>\n",
              "      <td>456</td>\n",
              "      <td>456</td>\n",
              "      <td>456</td>\n",
              "    </tr>\n",
              "    <tr>\n",
              "      <th>tm</th>\n",
              "      <td>00:00:00</td>\n",
              "      <td>00:00:00</td>\n",
              "      <td>22:48:17</td>\n",
              "      <td>00:00:00</td>\n",
              "      <td>00:00:00</td>\n",
              "      <td>...</td>\n",
              "      <td>00:00:00</td>\n",
              "      <td>00:00:00</td>\n",
              "      <td>17:21:07</td>\n",
              "      <td>18:59:26</td>\n",
              "      <td>19:01:21</td>\n",
              "    </tr>\n",
              "    <tr>\n",
              "      <th>amt</th>\n",
              "      <td>-1305</td>\n",
              "      <td>-4821</td>\n",
              "      <td>-56156</td>\n",
              "      <td>-3708</td>\n",
              "      <td>-30912</td>\n",
              "      <td>...</td>\n",
              "      <td>-21877</td>\n",
              "      <td>-43831</td>\n",
              "      <td>89833</td>\n",
              "      <td>247062</td>\n",
              "      <td>-336874</td>\n",
              "    </tr>\n",
              "    <tr>\n",
              "      <th>mcc</th>\n",
              "      <td>56</td>\n",
              "      <td>56</td>\n",
              "      <td>22</td>\n",
              "      <td>56</td>\n",
              "      <td>65</td>\n",
              "      <td>...</td>\n",
              "      <td>56</td>\n",
              "      <td>56</td>\n",
              "      <td>123</td>\n",
              "      <td>124</td>\n",
              "      <td>22</td>\n",
              "    </tr>\n",
              "    <tr>\n",
              "      <th>ttc</th>\n",
              "      <td>4</td>\n",
              "      <td>4</td>\n",
              "      <td>37</td>\n",
              "      <td>4</td>\n",
              "      <td>4</td>\n",
              "      <td>...</td>\n",
              "      <td>4</td>\n",
              "      <td>4</td>\n",
              "      <td>128</td>\n",
              "      <td>108</td>\n",
              "      <td>25</td>\n",
              "    </tr>\n",
              "    <tr>\n",
              "      <th>tid</th>\n",
              "      <td>NaN</td>\n",
              "      <td>NaN</td>\n",
              "      <td>NaN</td>\n",
              "      <td>NaN</td>\n",
              "      <td>NaN</td>\n",
              "      <td>...</td>\n",
              "      <td>25021545</td>\n",
              "      <td>PS026577</td>\n",
              "      <td>888917</td>\n",
              "      <td>738051</td>\n",
              "      <td>738051</td>\n",
              "    </tr>\n",
              "  </tbody>\n",
              "</table>\n",
              "<p>7 rows × 3749578 columns</p>\n",
              "</div>\n",
              "      <button class=\"colab-df-convert\" onclick=\"convertToInteractive('df-264aedac-e170-4085-885d-acfd1de6c5d3')\"\n",
              "              title=\"Convert this dataframe to an interactive table.\"\n",
              "              style=\"display:none;\">\n",
              "        \n",
              "  <svg xmlns=\"http://www.w3.org/2000/svg\" height=\"24px\"viewBox=\"0 0 24 24\"\n",
              "       width=\"24px\">\n",
              "    <path d=\"M0 0h24v24H0V0z\" fill=\"none\"/>\n",
              "    <path d=\"M18.56 5.44l.94 2.06.94-2.06 2.06-.94-2.06-.94-.94-2.06-.94 2.06-2.06.94zm-11 1L8.5 8.5l.94-2.06 2.06-.94-2.06-.94L8.5 2.5l-.94 2.06-2.06.94zm10 10l.94 2.06.94-2.06 2.06-.94-2.06-.94-.94-2.06-.94 2.06-2.06.94z\"/><path d=\"M17.41 7.96l-1.37-1.37c-.4-.4-.92-.59-1.43-.59-.52 0-1.04.2-1.43.59L10.3 9.45l-7.72 7.72c-.78.78-.78 2.05 0 2.83L4 21.41c.39.39.9.59 1.41.59.51 0 1.02-.2 1.41-.59l7.78-7.78 2.81-2.81c.8-.78.8-2.07 0-2.86zM5.41 20L4 18.59l7.72-7.72 1.47 1.35L5.41 20z\"/>\n",
              "  </svg>\n",
              "      </button>\n",
              "      \n",
              "  <style>\n",
              "    .colab-df-container {\n",
              "      display:flex;\n",
              "      flex-wrap:wrap;\n",
              "      gap: 12px;\n",
              "    }\n",
              "\n",
              "    .colab-df-convert {\n",
              "      background-color: #E8F0FE;\n",
              "      border: none;\n",
              "      border-radius: 50%;\n",
              "      cursor: pointer;\n",
              "      display: none;\n",
              "      fill: #1967D2;\n",
              "      height: 32px;\n",
              "      padding: 0 0 0 0;\n",
              "      width: 32px;\n",
              "    }\n",
              "\n",
              "    .colab-df-convert:hover {\n",
              "      background-color: #E2EBFA;\n",
              "      box-shadow: 0px 1px 2px rgba(60, 64, 67, 0.3), 0px 1px 3px 1px rgba(60, 64, 67, 0.15);\n",
              "      fill: #174EA6;\n",
              "    }\n",
              "\n",
              "    [theme=dark] .colab-df-convert {\n",
              "      background-color: #3B4455;\n",
              "      fill: #D2E3FC;\n",
              "    }\n",
              "\n",
              "    [theme=dark] .colab-df-convert:hover {\n",
              "      background-color: #434B5C;\n",
              "      box-shadow: 0px 1px 3px 1px rgba(0, 0, 0, 0.15);\n",
              "      filter: drop-shadow(0px 1px 2px rgba(0, 0, 0, 0.3));\n",
              "      fill: #FFFFFF;\n",
              "    }\n",
              "  </style>\n",
              "\n",
              "      <script>\n",
              "        const buttonEl =\n",
              "          document.querySelector('#df-264aedac-e170-4085-885d-acfd1de6c5d3 button.colab-df-convert');\n",
              "        buttonEl.style.display =\n",
              "          google.colab.kernel.accessAllowed ? 'block' : 'none';\n",
              "\n",
              "        async function convertToInteractive(key) {\n",
              "          const element = document.querySelector('#df-264aedac-e170-4085-885d-acfd1de6c5d3');\n",
              "          const dataTable =\n",
              "            await google.colab.kernel.invokeFunction('convertToInteractive',\n",
              "                                                     [key], {});\n",
              "          if (!dataTable) return;\n",
              "\n",
              "          const docLinkHtml = 'Like what you see? Visit the ' +\n",
              "            '<a target=\"_blank\" href=https://colab.research.google.com/notebooks/data_table.ipynb>data table notebook</a>'\n",
              "            + ' to learn more about interactive tables.';\n",
              "          element.innerHTML = '';\n",
              "          dataTable['output_type'] = 'display_data';\n",
              "          await google.colab.output.renderOutput(dataTable, element);\n",
              "          const docLink = document.createElement('div');\n",
              "          docLink.innerHTML = docLinkHtml;\n",
              "          element.appendChild(docLink);\n",
              "        }\n",
              "      </script>\n",
              "    </div>\n",
              "  </div>\n",
              "  "
            ]
          },
          "metadata": {},
          "execution_count": 7
        }
      ],
      "source": [
        "%time dfTrx = pd.read_csv('trx.csv').sort_values(['cid','dt','tm']); dfTrx.T  # load bank card's transactions. Ensure ordered CID"
      ]
    },
    {
      "cell_type": "code",
      "source": [
        "df_ = gender.drop('gender', axis=1); df_.T  # a list of ordered client IDs (as index)"
      ],
      "metadata": {
        "colab": {
          "base_uri": "https://localhost:8080/",
          "height": 79
        },
        "id": "_dbPjpjXSZWj",
        "outputId": "836f9d70-98a8-4a75-a051-2dfcbf70ade4"
      },
      "execution_count": null,
      "outputs": [
        {
          "output_type": "execute_result",
          "data": {
            "text/plain": [
              "Empty DataFrame\n",
              "Columns: [0, 1, 2, 3, 4, 5, 6, 7, 8, 9, 10, 11, 12, 13, 14, 15, 16, 17, 18, 19, 20, 21, 22, 23, 24, 25, 26, 27, 28, 29, 30, 31, 32, 33, 34, 35, 36, 37, 38, 39, 40, 41, 42, 43, 44, 45, 46, 47, 48, 49, 50, 51, 52, 53, 54, 55, 56, 57, 58, 59, 60, 61, 62, 63, 64, 65, 66, 67, 68, 69, 70, 71, 72, 73, 74, 75, 76, 77, 78, 79, 80, 81, 82, 83, 84, 85, 86, 87, 88, 89, 90, 91, 92, 93, 94, 95, 96, 97, 98, 99, ...]\n",
              "Index: []\n",
              "\n",
              "[0 rows x 8400 columns]"
            ],
            "text/html": [
              "\n",
              "  <div id=\"df-eb4f8fc2-a6aa-4464-bddd-d70d19a016d4\">\n",
              "    <div class=\"colab-df-container\">\n",
              "      <div>\n",
              "<style scoped>\n",
              "    .dataframe tbody tr th:only-of-type {\n",
              "        vertical-align: middle;\n",
              "    }\n",
              "\n",
              "    .dataframe tbody tr th {\n",
              "        vertical-align: top;\n",
              "    }\n",
              "\n",
              "    .dataframe thead th {\n",
              "        text-align: right;\n",
              "    }\n",
              "</style>\n",
              "<table border=\"1\" class=\"dataframe\">\n",
              "  <thead>\n",
              "    <tr style=\"text-align: right;\">\n",
              "      <th>cid</th>\n",
              "      <th>0</th>\n",
              "      <th>1</th>\n",
              "      <th>2</th>\n",
              "      <th>3</th>\n",
              "      <th>4</th>\n",
              "      <th>...</th>\n",
              "      <th>8395</th>\n",
              "      <th>8396</th>\n",
              "      <th>8397</th>\n",
              "      <th>8398</th>\n",
              "      <th>8399</th>\n",
              "    </tr>\n",
              "  </thead>\n",
              "  <tbody>\n",
              "  </tbody>\n",
              "</table>\n",
              "<p>0 rows × 8400 columns</p>\n",
              "</div>\n",
              "      <button class=\"colab-df-convert\" onclick=\"convertToInteractive('df-eb4f8fc2-a6aa-4464-bddd-d70d19a016d4')\"\n",
              "              title=\"Convert this dataframe to an interactive table.\"\n",
              "              style=\"display:none;\">\n",
              "        \n",
              "  <svg xmlns=\"http://www.w3.org/2000/svg\" height=\"24px\"viewBox=\"0 0 24 24\"\n",
              "       width=\"24px\">\n",
              "    <path d=\"M0 0h24v24H0V0z\" fill=\"none\"/>\n",
              "    <path d=\"M18.56 5.44l.94 2.06.94-2.06 2.06-.94-2.06-.94-.94-2.06-.94 2.06-2.06.94zm-11 1L8.5 8.5l.94-2.06 2.06-.94-2.06-.94L8.5 2.5l-.94 2.06-2.06.94zm10 10l.94 2.06.94-2.06 2.06-.94-2.06-.94-.94-2.06-.94 2.06-2.06.94z\"/><path d=\"M17.41 7.96l-1.37-1.37c-.4-.4-.92-.59-1.43-.59-.52 0-1.04.2-1.43.59L10.3 9.45l-7.72 7.72c-.78.78-.78 2.05 0 2.83L4 21.41c.39.39.9.59 1.41.59.51 0 1.02-.2 1.41-.59l7.78-7.78 2.81-2.81c.8-.78.8-2.07 0-2.86zM5.41 20L4 18.59l7.72-7.72 1.47 1.35L5.41 20z\"/>\n",
              "  </svg>\n",
              "      </button>\n",
              "      \n",
              "  <style>\n",
              "    .colab-df-container {\n",
              "      display:flex;\n",
              "      flex-wrap:wrap;\n",
              "      gap: 12px;\n",
              "    }\n",
              "\n",
              "    .colab-df-convert {\n",
              "      background-color: #E8F0FE;\n",
              "      border: none;\n",
              "      border-radius: 50%;\n",
              "      cursor: pointer;\n",
              "      display: none;\n",
              "      fill: #1967D2;\n",
              "      height: 32px;\n",
              "      padding: 0 0 0 0;\n",
              "      width: 32px;\n",
              "    }\n",
              "\n",
              "    .colab-df-convert:hover {\n",
              "      background-color: #E2EBFA;\n",
              "      box-shadow: 0px 1px 2px rgba(60, 64, 67, 0.3), 0px 1px 3px 1px rgba(60, 64, 67, 0.15);\n",
              "      fill: #174EA6;\n",
              "    }\n",
              "\n",
              "    [theme=dark] .colab-df-convert {\n",
              "      background-color: #3B4455;\n",
              "      fill: #D2E3FC;\n",
              "    }\n",
              "\n",
              "    [theme=dark] .colab-df-convert:hover {\n",
              "      background-color: #434B5C;\n",
              "      box-shadow: 0px 1px 3px 1px rgba(0, 0, 0, 0.15);\n",
              "      filter: drop-shadow(0px 1px 2px rgba(0, 0, 0, 0.3));\n",
              "      fill: #FFFFFF;\n",
              "    }\n",
              "  </style>\n",
              "\n",
              "      <script>\n",
              "        const buttonEl =\n",
              "          document.querySelector('#df-eb4f8fc2-a6aa-4464-bddd-d70d19a016d4 button.colab-df-convert');\n",
              "        buttonEl.style.display =\n",
              "          google.colab.kernel.accessAllowed ? 'block' : 'none';\n",
              "\n",
              "        async function convertToInteractive(key) {\n",
              "          const element = document.querySelector('#df-eb4f8fc2-a6aa-4464-bddd-d70d19a016d4');\n",
              "          const dataTable =\n",
              "            await google.colab.kernel.invokeFunction('convertToInteractive',\n",
              "                                                     [key], {});\n",
              "          if (!dataTable) return;\n",
              "\n",
              "          const docLinkHtml = 'Like what you see? Visit the ' +\n",
              "            '<a target=\"_blank\" href=https://colab.research.google.com/notebooks/data_table.ipynb>data table notebook</a>'\n",
              "            + ' to learn more about interactive tables.';\n",
              "          element.innerHTML = '';\n",
              "          dataTable['output_type'] = 'display_data';\n",
              "          await google.colab.output.renderOutput(dataTable, element);\n",
              "          const docLink = document.createElement('div');\n",
              "          docLink.innerHTML = docLinkHtml;\n",
              "          element.appendChild(docLink);\n",
              "        }\n",
              "      </script>\n",
              "    </div>\n",
              "  </div>\n",
              "  "
            ]
          },
          "metadata": {},
          "execution_count": 8
        }
      ]
    },
    {
      "cell_type": "code",
      "execution_count": null,
      "metadata": {
        "colab": {
          "base_uri": "https://localhost:8080/"
        },
        "id": "1l4r_NEyzZ_v",
        "outputId": "1165bce4-f17f-4387-8e15-f331d70a0b8b"
      },
      "outputs": [
        {
          "output_type": "stream",
          "name": "stdout",
          "text": [
            "⏳ started. You have 120 sec. Good luck!\n"
          ]
        }
      ],
      "source": [
        "pd.set_option('display.max_colwidth', 100, 'display.max_columns', 20, 'display.width', 1000, 'display.max_rows', 4)\n",
        "tmr = Timer() # runtime limit (in seconds). Add all of your code after the timer"
      ]
    },
    {
      "cell_type": "markdown",
      "metadata": {
        "id": "Vl15K7562P-n"
      },
      "source": [
        "<hr color=green size=40>\n",
        "\n",
        "<strong><font color=green size=5>⏳Timed Green Playground (TGP): Your ideas, documentation, code, and timer START HERE!</font></strong>\n",
        "\n",
        "<font color=green>Students: Keep all your definitions, code, documentation in <b>TGP</b>. Modifying any code outside of TGP incurs penalties."
      ]
    },
    {
      "cell_type": "markdown",
      "source": [
        "# Formatting and feature engineering"
      ],
      "metadata": {
        "id": "W8NA4Exf5IpI"
      }
    },
    {
      "cell_type": "markdown",
      "source": [
        "Ignoring all warnings raised by pandas"
      ],
      "metadata": {
        "id": "dapFmd66Agzp"
      }
    },
    {
      "cell_type": "code",
      "source": [
        "import warnings\n",
        "warnings.filterwarnings('ignore')"
      ],
      "metadata": {
        "id": "rQ4jGYlyAeAh"
      },
      "execution_count": null,
      "outputs": []
    },
    {
      "cell_type": "markdown",
      "source": [
        "There are a lot of TTC code definitions (155, only 71 are in the dataset), and some of them are similar and can be grouped. We have manually assigned groups to TTC codes to make them larger"
      ],
      "metadata": {
        "id": "UDrKtHkk4iFj"
      }
    },
    {
      "cell_type": "code",
      "source": [
        "ttc_groups = [1, 1, 2, 1, 1, 1, 1, 100, 101, 102, 4, 3, 3, 3, 3, 3, 4, 4, 4, 4, 5, 11, 11, 11, 103, 19, 19, 19, 19, 19, 19, 12, 12, 12, 12, 12, 104, 19, 19, 9, 9, 9, 9, 9, 9, 9, 9, 9, 9, 9, 9, 9, 9, 9, 9, 105, 3, 57, 19, 19, 7, 10, 10, 10, 10, 106, 10, 107, 10, 10, 10, 10, 10, 10, 10, 10, 108, 10, 10, 109, 10, 10, 10, 10, 10, 10, 10, 2, 2, 2, 2, 110, 10, 10, 10, 10, 10, 10, 10, 111, 19, 17, 17, 17, 17, 17, 17, 13, 18, 18, 18, 18, 18, 18, 18, 18, 9, 9, 9, 9, 9, 9, 9, 9, 9, 9, 13, 13, 9, 9, 9, 9, 9, 9, 112, 15, 15, 15, 15, 14, 22, 20, 19, 19, 9, 19, 16, 6, 113, 8, 21, 10, 10, 10, 10]\n",
        "ttc['group'] = ttc_groups"
      ],
      "metadata": {
        "id": "gV-E55nytTrx"
      },
      "execution_count": null,
      "outputs": []
    },
    {
      "cell_type": "code",
      "source": [
        "dfTrx = pd.merge(dfTrx, ttc, on='ttc', how=\"right\")"
      ],
      "metadata": {
        "id": "TRMNClM-xFYS"
      },
      "execution_count": null,
      "outputs": []
    },
    {
      "cell_type": "markdown",
      "source": [
        "Converting tm to pandas datetime type for convenience"
      ],
      "metadata": {
        "id": "uUDhbYUL4j7U"
      }
    },
    {
      "cell_type": "code",
      "source": [
        "dfTrx['tm'] = pd.to_datetime(dfTrx['tm'], format=\"%H:%M:%S\")"
      ],
      "metadata": {
        "id": "wEfTQocfvIe6"
      },
      "execution_count": null,
      "outputs": []
    },
    {
      "cell_type": "markdown",
      "source": [
        "New columns:\n",
        "- Weekday (dt modulo 7)\n",
        "- Hour (0-23)\n",
        "- Night (0/1, 00:00-05:00)"
      ],
      "metadata": {
        "id": "-7_Ev5R64nXl"
      }
    },
    {
      "cell_type": "code",
      "source": [
        "dfTrx['weekday'] = dfTrx['ttc'] % 7\n",
        "dfTrx['hour'] = dfTrx['tm'].dt.hour\n",
        "dfTrx['night'] = ~dfTrx['hour'].between(5, 23).astype(int)"
      ],
      "metadata": {
        "id": "f2r5udkou07V"
      },
      "execution_count": null,
      "outputs": []
    },
    {
      "cell_type": "markdown",
      "source": [
        "Separating transactions by\n",
        "- Incoming transactions (amt above zero)\n",
        "- Outgoing transactions (amt below zero)"
      ],
      "metadata": {
        "id": "WZYfJSC64tX9"
      }
    },
    {
      "cell_type": "code",
      "source": [
        "dfTrx.loc[dfTrx['amt'] > 0, 'income'] = dfTrx['amt']\n",
        "dfTrx.loc[dfTrx['amt'] <= 0, 'spent'] = dfTrx['amt']"
      ],
      "metadata": {
        "id": "HofDsX-PwQUs"
      },
      "execution_count": null,
      "outputs": []
    },
    {
      "cell_type": "markdown",
      "source": [
        "Creating new feature: unique TID rate (will further be applied to one model of two only). The means of TIDs\n",
        "\n",
        "Formula for one user: $rate = \\frac{unique}{total}$"
      ],
      "metadata": {
        "id": "ZOLR_0th4vqy"
      }
    },
    {
      "cell_type": "code",
      "source": [
        "unique_tid = dfTrx[['tid', 'cid']].groupby('cid').nunique()\n",
        "all_tid = dfTrx[['tid', 'cid']].groupby('cid').count()\n",
        "unique_tid['tid_rate'] = unique_tid['tid'] / all_tid['tid']\n",
        "unique_tid = unique_tid[['tid_rate']]"
      ],
      "metadata": {
        "id": "dVY1KeMPNY8W"
      },
      "execution_count": null,
      "outputs": []
    },
    {
      "cell_type": "markdown",
      "source": [
        "Calculating measures of central tendency for amount (income/spent):\n",
        "- STD\n",
        "- Minimum\n",
        "- Maximum\n",
        "- Mean\n",
        "- Median\n",
        "- Sum\n",
        "- Count"
      ],
      "metadata": {
        "id": "Uu-2KRdR41dZ"
      }
    },
    {
      "cell_type": "code",
      "source": [
        "std_df = dfTrx.groupby(['cid']).std()\n",
        "std_df.rename(columns={'income': 'std_income', 'spent': 'std_spent'}, inplace=True)\n",
        "\n",
        "min_df = dfTrx.groupby(['cid']).min()\n",
        "min_df.rename(columns={'income': 'min_income', 'spent': 'max_spent'}, inplace=True)\n",
        "\n",
        "max_df = dfTrx.groupby(['cid']).max()\n",
        "max_df.rename(columns={'income': 'max_income', 'spent': 'min_spent'}, inplace=True)\n",
        "\n",
        "mean_df = dfTrx.groupby(['cid']).mean()\n",
        "mean_df.rename(columns={'income': 'mean_income', 'spent': 'mean_spent'}, inplace=True)\n",
        "\n",
        "median_df = dfTrx.groupby(['cid']).median()\n",
        "median_df.rename(columns={'income': 'median_income', 'spent': 'median_spent'}, inplace=True)\n",
        "\n",
        "sum_df = dfTrx.groupby(['cid']).sum()\n",
        "sum_df.rename(columns={'income': 'sum_income', 'spent': 'sum_spent'}, inplace=True)\n",
        "\n",
        "count_df = dfTrx.groupby(['cid']).count()\n",
        "count_df.rename(columns={'income': 'count_income', 'spent': 'count_spent'}, inplace=True)"
      ],
      "metadata": {
        "id": "17VyKVsyvged"
      },
      "execution_count": null,
      "outputs": []
    },
    {
      "cell_type": "markdown",
      "source": [
        "Creating new features for users with:\n",
        "- Transaction count by MCC\n",
        "- Transaction count by weekday\n",
        "- Transaction count by hour\n",
        "- Transaction count by night flag\n",
        "- Transaction count by TTC group\n",
        "- Transaction count by working hours flag"
      ],
      "metadata": {
        "id": "w9Unw7uJ45Yg"
      }
    },
    {
      "cell_type": "code",
      "source": [
        "def one_hot(x):\n",
        "    features = []\n",
        "    features.append(pd.Series(x['mcc'].value_counts().add_prefix('mcc_')))\n",
        "    features.append(pd.Series(x['weekday'].value_counts().add_prefix('day_')))\n",
        "    features.append(pd.Series(x['hour'].value_counts().add_prefix('h_')))\n",
        "    features.append(pd.Series(x['night'].value_counts().add_prefix('night_')))\n",
        "    features.append(pd.Series(x['group'].value_counts().add_prefix('new_ttc_')))\n",
        "\n",
        "    return pd.concat(features)\n",
        "\n",
        "data = dfTrx.groupby(dfTrx['cid']).apply(one_hot).unstack(-1)"
      ],
      "metadata": {
        "id": "DNPQEw5JwYMq"
      },
      "execution_count": null,
      "outputs": []
    },
    {
      "cell_type": "markdown",
      "source": [
        "Appending variance values to the final train dataset"
      ],
      "metadata": {
        "id": "7QGwk7cS4-TD"
      }
    },
    {
      "cell_type": "code",
      "source": [
        "min_df = min_df[['min_income', 'max_spent']]\n",
        "max_df = max_df[['max_income', 'min_spent']]\n",
        "mean_df = mean_df[['mean_income', 'mean_spent']]\n",
        "std_df = std_df[['std_income', 'std_spent']]\n",
        "median_df = median_df[['median_income', 'median_spent']]\n",
        "sum_df = sum_df[['sum_income', 'sum_spent']]\n",
        "count_df = count_df[['count_income', 'count_spent']]\n",
        "\n",
        "data = data.join(min_df, on='cid')\n",
        "data = data.join(max_df, on='cid')\n",
        "data = data.join(mean_df, on='cid')\n",
        "data = data.join(std_df, on='cid')\n",
        "data = data.join(median_df, on='cid')\n",
        "data = data.join(sum_df, on='cid')\n",
        "data = data.join(count_df, on='cid')\n",
        "data = data.join(unique_tid, on='cid')"
      ],
      "metadata": {
        "id": "dN4YiGFKvnAg"
      },
      "execution_count": null,
      "outputs": []
    },
    {
      "cell_type": "markdown",
      "source": [
        "Replacing some remaining NaN features with zeros to further apply MinMaxScaler"
      ],
      "metadata": {
        "id": "gC52OenL5ATf"
      }
    },
    {
      "cell_type": "code",
      "source": [
        "data.fillna(0, inplace=True)\n",
        "data.head()"
      ],
      "metadata": {
        "colab": {
          "base_uri": "https://localhost:8080/",
          "height": 331
        },
        "id": "udkW-UNsxRRd",
        "outputId": "a23b0c3b-bae2-4dfb-86c1-37fbebb0b8a7"
      },
      "execution_count": null,
      "outputs": [
        {
          "output_type": "execute_result",
          "data": {
            "text/plain": [
              "     day_0  day_1  day_2  day_3  day_4  day_5  day_6  h_0.0  h_1.0  h_10.0  ...     mean_spent     std_income      std_spent  median_income  median_spent  sum_income   sum_spent  count_income  count_spent  tid_rate\n",
              "cid                                                                         ...                                                                                                                                       \n",
              "0.0    0.0  634.0   73.0   16.0  178.0  103.0    1.0  178.0    6.0    26.0  ...  -17222.883555  346823.277740   49156.154826       126887.5       -6123.0   4622047.0 -16861203.0            26          979  0.323636\n",
              "1.0    0.0   17.0   67.0   12.0   53.0   60.0    0.0    7.0    0.0    19.0  ...  -37538.816754  150208.983967   70819.531155        94620.5      -13675.0   2597151.0  -7169914.0            18          191  0.477124\n",
              "..     ...    ...    ...    ...    ...    ...    ...    ...    ...     ...  ...            ...            ...            ...            ...           ...         ...         ...           ...          ...       ...\n",
              "3.0    0.0    2.0    0.0    8.0   17.0   50.0    1.0   18.0    0.0    12.0  ... -395424.457143   54271.935394  394880.084253       112303.0     -134749.0   1100510.0 -27679712.0             8           70  0.525000\n",
              "4.0    0.0  219.0   13.0    0.0   38.0   17.0    0.0    0.0    0.0    32.0  ...  -11620.638596    7942.223366   20777.662966        39302.0       -6692.0     78604.0  -3311882.0             2          285  0.217391\n",
              "\n",
              "[5 rows x 251 columns]"
            ],
            "text/html": [
              "\n",
              "  <div id=\"df-cd7dff0a-b2dd-4017-8701-7946b3e291d5\">\n",
              "    <div class=\"colab-df-container\">\n",
              "      <div>\n",
              "<style scoped>\n",
              "    .dataframe tbody tr th:only-of-type {\n",
              "        vertical-align: middle;\n",
              "    }\n",
              "\n",
              "    .dataframe tbody tr th {\n",
              "        vertical-align: top;\n",
              "    }\n",
              "\n",
              "    .dataframe thead th {\n",
              "        text-align: right;\n",
              "    }\n",
              "</style>\n",
              "<table border=\"1\" class=\"dataframe\">\n",
              "  <thead>\n",
              "    <tr style=\"text-align: right;\">\n",
              "      <th></th>\n",
              "      <th>day_0</th>\n",
              "      <th>day_1</th>\n",
              "      <th>day_2</th>\n",
              "      <th>day_3</th>\n",
              "      <th>day_4</th>\n",
              "      <th>day_5</th>\n",
              "      <th>day_6</th>\n",
              "      <th>h_0.0</th>\n",
              "      <th>h_1.0</th>\n",
              "      <th>h_10.0</th>\n",
              "      <th>...</th>\n",
              "      <th>mean_spent</th>\n",
              "      <th>std_income</th>\n",
              "      <th>std_spent</th>\n",
              "      <th>median_income</th>\n",
              "      <th>median_spent</th>\n",
              "      <th>sum_income</th>\n",
              "      <th>sum_spent</th>\n",
              "      <th>count_income</th>\n",
              "      <th>count_spent</th>\n",
              "      <th>tid_rate</th>\n",
              "    </tr>\n",
              "    <tr>\n",
              "      <th>cid</th>\n",
              "      <th></th>\n",
              "      <th></th>\n",
              "      <th></th>\n",
              "      <th></th>\n",
              "      <th></th>\n",
              "      <th></th>\n",
              "      <th></th>\n",
              "      <th></th>\n",
              "      <th></th>\n",
              "      <th></th>\n",
              "      <th></th>\n",
              "      <th></th>\n",
              "      <th></th>\n",
              "      <th></th>\n",
              "      <th></th>\n",
              "      <th></th>\n",
              "      <th></th>\n",
              "      <th></th>\n",
              "      <th></th>\n",
              "      <th></th>\n",
              "      <th></th>\n",
              "    </tr>\n",
              "  </thead>\n",
              "  <tbody>\n",
              "    <tr>\n",
              "      <th>0.0</th>\n",
              "      <td>0.0</td>\n",
              "      <td>634.0</td>\n",
              "      <td>73.0</td>\n",
              "      <td>16.0</td>\n",
              "      <td>178.0</td>\n",
              "      <td>103.0</td>\n",
              "      <td>1.0</td>\n",
              "      <td>178.0</td>\n",
              "      <td>6.0</td>\n",
              "      <td>26.0</td>\n",
              "      <td>...</td>\n",
              "      <td>-17222.883555</td>\n",
              "      <td>346823.277740</td>\n",
              "      <td>49156.154826</td>\n",
              "      <td>126887.5</td>\n",
              "      <td>-6123.0</td>\n",
              "      <td>4622047.0</td>\n",
              "      <td>-16861203.0</td>\n",
              "      <td>26</td>\n",
              "      <td>979</td>\n",
              "      <td>0.323636</td>\n",
              "    </tr>\n",
              "    <tr>\n",
              "      <th>1.0</th>\n",
              "      <td>0.0</td>\n",
              "      <td>17.0</td>\n",
              "      <td>67.0</td>\n",
              "      <td>12.0</td>\n",
              "      <td>53.0</td>\n",
              "      <td>60.0</td>\n",
              "      <td>0.0</td>\n",
              "      <td>7.0</td>\n",
              "      <td>0.0</td>\n",
              "      <td>19.0</td>\n",
              "      <td>...</td>\n",
              "      <td>-37538.816754</td>\n",
              "      <td>150208.983967</td>\n",
              "      <td>70819.531155</td>\n",
              "      <td>94620.5</td>\n",
              "      <td>-13675.0</td>\n",
              "      <td>2597151.0</td>\n",
              "      <td>-7169914.0</td>\n",
              "      <td>18</td>\n",
              "      <td>191</td>\n",
              "      <td>0.477124</td>\n",
              "    </tr>\n",
              "    <tr>\n",
              "      <th>...</th>\n",
              "      <td>...</td>\n",
              "      <td>...</td>\n",
              "      <td>...</td>\n",
              "      <td>...</td>\n",
              "      <td>...</td>\n",
              "      <td>...</td>\n",
              "      <td>...</td>\n",
              "      <td>...</td>\n",
              "      <td>...</td>\n",
              "      <td>...</td>\n",
              "      <td>...</td>\n",
              "      <td>...</td>\n",
              "      <td>...</td>\n",
              "      <td>...</td>\n",
              "      <td>...</td>\n",
              "      <td>...</td>\n",
              "      <td>...</td>\n",
              "      <td>...</td>\n",
              "      <td>...</td>\n",
              "      <td>...</td>\n",
              "      <td>...</td>\n",
              "    </tr>\n",
              "    <tr>\n",
              "      <th>3.0</th>\n",
              "      <td>0.0</td>\n",
              "      <td>2.0</td>\n",
              "      <td>0.0</td>\n",
              "      <td>8.0</td>\n",
              "      <td>17.0</td>\n",
              "      <td>50.0</td>\n",
              "      <td>1.0</td>\n",
              "      <td>18.0</td>\n",
              "      <td>0.0</td>\n",
              "      <td>12.0</td>\n",
              "      <td>...</td>\n",
              "      <td>-395424.457143</td>\n",
              "      <td>54271.935394</td>\n",
              "      <td>394880.084253</td>\n",
              "      <td>112303.0</td>\n",
              "      <td>-134749.0</td>\n",
              "      <td>1100510.0</td>\n",
              "      <td>-27679712.0</td>\n",
              "      <td>8</td>\n",
              "      <td>70</td>\n",
              "      <td>0.525000</td>\n",
              "    </tr>\n",
              "    <tr>\n",
              "      <th>4.0</th>\n",
              "      <td>0.0</td>\n",
              "      <td>219.0</td>\n",
              "      <td>13.0</td>\n",
              "      <td>0.0</td>\n",
              "      <td>38.0</td>\n",
              "      <td>17.0</td>\n",
              "      <td>0.0</td>\n",
              "      <td>0.0</td>\n",
              "      <td>0.0</td>\n",
              "      <td>32.0</td>\n",
              "      <td>...</td>\n",
              "      <td>-11620.638596</td>\n",
              "      <td>7942.223366</td>\n",
              "      <td>20777.662966</td>\n",
              "      <td>39302.0</td>\n",
              "      <td>-6692.0</td>\n",
              "      <td>78604.0</td>\n",
              "      <td>-3311882.0</td>\n",
              "      <td>2</td>\n",
              "      <td>285</td>\n",
              "      <td>0.217391</td>\n",
              "    </tr>\n",
              "  </tbody>\n",
              "</table>\n",
              "<p>5 rows × 251 columns</p>\n",
              "</div>\n",
              "      <button class=\"colab-df-convert\" onclick=\"convertToInteractive('df-cd7dff0a-b2dd-4017-8701-7946b3e291d5')\"\n",
              "              title=\"Convert this dataframe to an interactive table.\"\n",
              "              style=\"display:none;\">\n",
              "        \n",
              "  <svg xmlns=\"http://www.w3.org/2000/svg\" height=\"24px\"viewBox=\"0 0 24 24\"\n",
              "       width=\"24px\">\n",
              "    <path d=\"M0 0h24v24H0V0z\" fill=\"none\"/>\n",
              "    <path d=\"M18.56 5.44l.94 2.06.94-2.06 2.06-.94-2.06-.94-.94-2.06-.94 2.06-2.06.94zm-11 1L8.5 8.5l.94-2.06 2.06-.94-2.06-.94L8.5 2.5l-.94 2.06-2.06.94zm10 10l.94 2.06.94-2.06 2.06-.94-2.06-.94-.94-2.06-.94 2.06-2.06.94z\"/><path d=\"M17.41 7.96l-1.37-1.37c-.4-.4-.92-.59-1.43-.59-.52 0-1.04.2-1.43.59L10.3 9.45l-7.72 7.72c-.78.78-.78 2.05 0 2.83L4 21.41c.39.39.9.59 1.41.59.51 0 1.02-.2 1.41-.59l7.78-7.78 2.81-2.81c.8-.78.8-2.07 0-2.86zM5.41 20L4 18.59l7.72-7.72 1.47 1.35L5.41 20z\"/>\n",
              "  </svg>\n",
              "      </button>\n",
              "      \n",
              "  <style>\n",
              "    .colab-df-container {\n",
              "      display:flex;\n",
              "      flex-wrap:wrap;\n",
              "      gap: 12px;\n",
              "    }\n",
              "\n",
              "    .colab-df-convert {\n",
              "      background-color: #E8F0FE;\n",
              "      border: none;\n",
              "      border-radius: 50%;\n",
              "      cursor: pointer;\n",
              "      display: none;\n",
              "      fill: #1967D2;\n",
              "      height: 32px;\n",
              "      padding: 0 0 0 0;\n",
              "      width: 32px;\n",
              "    }\n",
              "\n",
              "    .colab-df-convert:hover {\n",
              "      background-color: #E2EBFA;\n",
              "      box-shadow: 0px 1px 2px rgba(60, 64, 67, 0.3), 0px 1px 3px 1px rgba(60, 64, 67, 0.15);\n",
              "      fill: #174EA6;\n",
              "    }\n",
              "\n",
              "    [theme=dark] .colab-df-convert {\n",
              "      background-color: #3B4455;\n",
              "      fill: #D2E3FC;\n",
              "    }\n",
              "\n",
              "    [theme=dark] .colab-df-convert:hover {\n",
              "      background-color: #434B5C;\n",
              "      box-shadow: 0px 1px 3px 1px rgba(0, 0, 0, 0.15);\n",
              "      filter: drop-shadow(0px 1px 2px rgba(0, 0, 0, 0.3));\n",
              "      fill: #FFFFFF;\n",
              "    }\n",
              "  </style>\n",
              "\n",
              "      <script>\n",
              "        const buttonEl =\n",
              "          document.querySelector('#df-cd7dff0a-b2dd-4017-8701-7946b3e291d5 button.colab-df-convert');\n",
              "        buttonEl.style.display =\n",
              "          google.colab.kernel.accessAllowed ? 'block' : 'none';\n",
              "\n",
              "        async function convertToInteractive(key) {\n",
              "          const element = document.querySelector('#df-cd7dff0a-b2dd-4017-8701-7946b3e291d5');\n",
              "          const dataTable =\n",
              "            await google.colab.kernel.invokeFunction('convertToInteractive',\n",
              "                                                     [key], {});\n",
              "          if (!dataTable) return;\n",
              "\n",
              "          const docLinkHtml = 'Like what you see? Visit the ' +\n",
              "            '<a target=\"_blank\" href=https://colab.research.google.com/notebooks/data_table.ipynb>data table notebook</a>'\n",
              "            + ' to learn more about interactive tables.';\n",
              "          element.innerHTML = '';\n",
              "          dataTable['output_type'] = 'display_data';\n",
              "          await google.colab.output.renderOutput(dataTable, element);\n",
              "          const docLink = document.createElement('div');\n",
              "          docLink.innerHTML = docLinkHtml;\n",
              "          element.appendChild(docLink);\n",
              "        }\n",
              "      </script>\n",
              "    </div>\n",
              "  </div>\n",
              "  "
            ]
          },
          "metadata": {},
          "execution_count": 20
        }
      ]
    },
    {
      "cell_type": "markdown",
      "source": [
        "# Train/valid/test split"
      ],
      "metadata": {
        "id": "OdeqnTl85EuV"
      }
    },
    {
      "cell_type": "markdown",
      "source": [
        "Binding target values to train dataset and extracting target values"
      ],
      "metadata": {
        "id": "ZHfuBR1X5QCT"
      }
    },
    {
      "cell_type": "code",
      "source": [
        "data_train = pd.merge(data, tY, on='cid', how=\"right\")\n",
        "data_test = pd.merge(data, vY, on='cid', how=\"right\")\n",
        "\n",
        "target = data_train['gender']\n",
        "data_train.drop(columns='gender', inplace=True)\n",
        "data_test.drop(columns='gender', inplace=True)"
      ],
      "metadata": {
        "id": "rmkC945UxbKs"
      },
      "execution_count": null,
      "outputs": []
    },
    {
      "cell_type": "markdown",
      "source": [
        "Splitting dataset to train and valid"
      ],
      "metadata": {
        "id": "snhYU45e5Sri"
      }
    },
    {
      "cell_type": "code",
      "source": [
        "X = data_train.copy()\n",
        "y = target\n",
        "test_df = data_test.copy()\n",
        "\n",
        "scaler = MinMaxScaler()\n",
        "X = scaler.fit_transform(X)\n",
        "test_df = scaler.fit_transform(test_df)"
      ],
      "metadata": {
        "id": "3b0wp7cfylJo"
      },
      "execution_count": null,
      "outputs": []
    },
    {
      "cell_type": "markdown",
      "source": [
        "# Model learning"
      ],
      "metadata": {
        "id": "kRWMVDX7SjW2"
      }
    },
    {
      "cell_type": "markdown",
      "source": [
        "First, we fit XGBClassifier model on the current dataset. The hyperparameters were optimised with GridSearchCV and Optuna"
      ],
      "metadata": {
        "id": "bZyJYm2wAn5R"
      }
    },
    {
      "cell_type": "code",
      "source": [
        "params_xgb = {'learning_rate':0.05,\n",
        " 'n_estimators':1100,\n",
        " 'max_depth':2,\n",
        " 'min_child_weight':1,\n",
        " 'gamma':2,\n",
        " 'subsample':0.755,\n",
        " 'colsample_bytree':0.8,\n",
        " 'objective': 'binary:logistic',\n",
        " 'nthread':4,\n",
        " 'scale_pos_weight':1,\n",
        " 'seed':27,\n",
        " 'tree_method':'gpu_hist',\n",
        " 'predictor': 'gpu_predictor'\n",
        "}\n",
        "model_xgb = xgb.XGBClassifier(**params_xgb)\n",
        "model_xgb.fit(X, y)\n",
        "y_pred = model_xgb.predict_proba(test_df)\n",
        "res = [x[1] for x in y_pred]\n",
        "\n",
        "\n",
        "submission_xgb = pd.DataFrame(index=data_test.index)\n",
        "submission_xgb['probability'] = res\n",
        "submission_xgb = submission_xgb.reset_index()"
      ],
      "metadata": {
        "colab": {
          "base_uri": "https://localhost:8080/",
          "height": 248
        },
        "outputId": "9424e466-05d9-4c9d-9231-4a77ce833bce",
        "id": "ytX5d6SJQ-Bo"
      },
      "execution_count": null,
      "outputs": [
        {
          "output_type": "execute_result",
          "data": {
            "text/plain": [
              "XGBClassifier(base_score=None, booster=None, callbacks=None,\n",
              "              colsample_bylevel=None, colsample_bynode=None,\n",
              "              colsample_bytree=0.8, early_stopping_rounds=None,\n",
              "              enable_categorical=False, eval_metric=None, feature_types=None,\n",
              "              gamma=2, gpu_id=None, grow_policy=None, importance_type=None,\n",
              "              interaction_constraints=None, learning_rate=0.05, max_bin=None,\n",
              "              max_cat_threshold=None, max_cat_to_onehot=None,\n",
              "              max_delta_step=None, max_depth=2, max_leaves=None,\n",
              "              min_child_weight=1, missing=nan, monotone_constraints=None,\n",
              "              n_estimators=1100, n_jobs=None, nthread=4, num_parallel_tree=None,\n",
              "              predictor='gpu_predictor', ...)"
            ],
            "text/html": [
              "<style>#sk-container-id-1 {color: black;background-color: white;}#sk-container-id-1 pre{padding: 0;}#sk-container-id-1 div.sk-toggleable {background-color: white;}#sk-container-id-1 label.sk-toggleable__label {cursor: pointer;display: block;width: 100%;margin-bottom: 0;padding: 0.3em;box-sizing: border-box;text-align: center;}#sk-container-id-1 label.sk-toggleable__label-arrow:before {content: \"▸\";float: left;margin-right: 0.25em;color: #696969;}#sk-container-id-1 label.sk-toggleable__label-arrow:hover:before {color: black;}#sk-container-id-1 div.sk-estimator:hover label.sk-toggleable__label-arrow:before {color: black;}#sk-container-id-1 div.sk-toggleable__content {max-height: 0;max-width: 0;overflow: hidden;text-align: left;background-color: #f0f8ff;}#sk-container-id-1 div.sk-toggleable__content pre {margin: 0.2em;color: black;border-radius: 0.25em;background-color: #f0f8ff;}#sk-container-id-1 input.sk-toggleable__control:checked~div.sk-toggleable__content {max-height: 200px;max-width: 100%;overflow: auto;}#sk-container-id-1 input.sk-toggleable__control:checked~label.sk-toggleable__label-arrow:before {content: \"▾\";}#sk-container-id-1 div.sk-estimator input.sk-toggleable__control:checked~label.sk-toggleable__label {background-color: #d4ebff;}#sk-container-id-1 div.sk-label input.sk-toggleable__control:checked~label.sk-toggleable__label {background-color: #d4ebff;}#sk-container-id-1 input.sk-hidden--visually {border: 0;clip: rect(1px 1px 1px 1px);clip: rect(1px, 1px, 1px, 1px);height: 1px;margin: -1px;overflow: hidden;padding: 0;position: absolute;width: 1px;}#sk-container-id-1 div.sk-estimator {font-family: monospace;background-color: #f0f8ff;border: 1px dotted black;border-radius: 0.25em;box-sizing: border-box;margin-bottom: 0.5em;}#sk-container-id-1 div.sk-estimator:hover {background-color: #d4ebff;}#sk-container-id-1 div.sk-parallel-item::after {content: \"\";width: 100%;border-bottom: 1px solid gray;flex-grow: 1;}#sk-container-id-1 div.sk-label:hover label.sk-toggleable__label {background-color: #d4ebff;}#sk-container-id-1 div.sk-serial::before {content: \"\";position: absolute;border-left: 1px solid gray;box-sizing: border-box;top: 0;bottom: 0;left: 50%;z-index: 0;}#sk-container-id-1 div.sk-serial {display: flex;flex-direction: column;align-items: center;background-color: white;padding-right: 0.2em;padding-left: 0.2em;position: relative;}#sk-container-id-1 div.sk-item {position: relative;z-index: 1;}#sk-container-id-1 div.sk-parallel {display: flex;align-items: stretch;justify-content: center;background-color: white;position: relative;}#sk-container-id-1 div.sk-item::before, #sk-container-id-1 div.sk-parallel-item::before {content: \"\";position: absolute;border-left: 1px solid gray;box-sizing: border-box;top: 0;bottom: 0;left: 50%;z-index: -1;}#sk-container-id-1 div.sk-parallel-item {display: flex;flex-direction: column;z-index: 1;position: relative;background-color: white;}#sk-container-id-1 div.sk-parallel-item:first-child::after {align-self: flex-end;width: 50%;}#sk-container-id-1 div.sk-parallel-item:last-child::after {align-self: flex-start;width: 50%;}#sk-container-id-1 div.sk-parallel-item:only-child::after {width: 0;}#sk-container-id-1 div.sk-dashed-wrapped {border: 1px dashed gray;margin: 0 0.4em 0.5em 0.4em;box-sizing: border-box;padding-bottom: 0.4em;background-color: white;}#sk-container-id-1 div.sk-label label {font-family: monospace;font-weight: bold;display: inline-block;line-height: 1.2em;}#sk-container-id-1 div.sk-label-container {text-align: center;}#sk-container-id-1 div.sk-container {/* jupyter's `normalize.less` sets `[hidden] { display: none; }` but bootstrap.min.css set `[hidden] { display: none !important; }` so we also need the `!important` here to be able to override the default hidden behavior on the sphinx rendered scikit-learn.org. See: https://github.com/scikit-learn/scikit-learn/issues/21755 */display: inline-block !important;position: relative;}#sk-container-id-1 div.sk-text-repr-fallback {display: none;}</style><div id=\"sk-container-id-1\" class=\"sk-top-container\"><div class=\"sk-text-repr-fallback\"><pre>XGBClassifier(base_score=None, booster=None, callbacks=None,\n",
              "              colsample_bylevel=None, colsample_bynode=None,\n",
              "              colsample_bytree=0.8, early_stopping_rounds=None,\n",
              "              enable_categorical=False, eval_metric=None, feature_types=None,\n",
              "              gamma=2, gpu_id=None, grow_policy=None, importance_type=None,\n",
              "              interaction_constraints=None, learning_rate=0.05, max_bin=None,\n",
              "              max_cat_threshold=None, max_cat_to_onehot=None,\n",
              "              max_delta_step=None, max_depth=2, max_leaves=None,\n",
              "              min_child_weight=1, missing=nan, monotone_constraints=None,\n",
              "              n_estimators=1100, n_jobs=None, nthread=4, num_parallel_tree=None,\n",
              "              predictor=&#x27;gpu_predictor&#x27;, ...)</pre><b>In a Jupyter environment, please rerun this cell to show the HTML representation or trust the notebook. <br />On GitHub, the HTML representation is unable to render, please try loading this page with nbviewer.org.</b></div><div class=\"sk-container\" hidden><div class=\"sk-item\"><div class=\"sk-estimator sk-toggleable\"><input class=\"sk-toggleable__control sk-hidden--visually\" id=\"sk-estimator-id-1\" type=\"checkbox\" checked><label for=\"sk-estimator-id-1\" class=\"sk-toggleable__label sk-toggleable__label-arrow\">XGBClassifier</label><div class=\"sk-toggleable__content\"><pre>XGBClassifier(base_score=None, booster=None, callbacks=None,\n",
              "              colsample_bylevel=None, colsample_bynode=None,\n",
              "              colsample_bytree=0.8, early_stopping_rounds=None,\n",
              "              enable_categorical=False, eval_metric=None, feature_types=None,\n",
              "              gamma=2, gpu_id=None, grow_policy=None, importance_type=None,\n",
              "              interaction_constraints=None, learning_rate=0.05, max_bin=None,\n",
              "              max_cat_threshold=None, max_cat_to_onehot=None,\n",
              "              max_delta_step=None, max_depth=2, max_leaves=None,\n",
              "              min_child_weight=1, missing=nan, monotone_constraints=None,\n",
              "              n_estimators=1100, n_jobs=None, nthread=4, num_parallel_tree=None,\n",
              "              predictor=&#x27;gpu_predictor&#x27;, ...)</pre></div></div></div></div></div>"
            ]
          },
          "metadata": {},
          "execution_count": 23
        }
      ]
    },
    {
      "cell_type": "markdown",
      "source": [
        "Next, we drop unique_tid column. This seems like a dumb decision, but we have achieved this with trial and error. After that, we have to apply MinMaxScaler again"
      ],
      "metadata": {
        "id": "H_zcZAuTOMEH"
      }
    },
    {
      "cell_type": "code",
      "source": [
        "data = data.drop('tid_rate', axis=1)\n",
        "data_train = pd.merge(data, tY, on='cid', how=\"right\")\n",
        "data_test = pd.merge(data, vY, on='cid', how=\"right\")\n",
        "\n",
        "target = data_train['gender']\n",
        "data_train.drop(columns='gender', inplace=True)\n",
        "data_test.drop(columns='gender', inplace=True)\n",
        "\n",
        "X = data_train.copy()\n",
        "y = target\n",
        "test_df = data_test.copy()\n",
        "\n",
        "scaler = MinMaxScaler()\n",
        "X = scaler.fit_transform(X)\n",
        "test_df = scaler.fit_transform(test_df)\n"
      ],
      "metadata": {
        "id": "b2y63B2_eBbx"
      },
      "execution_count": null,
      "outputs": []
    },
    {
      "cell_type": "markdown",
      "source": [
        "Finally, we fit LGBMClassifier model on the new dataset (without TID rate). The hyperparameters were optimised with GridSearchCV. This model tends to give better results without this feature"
      ],
      "metadata": {
        "id": "2CGWOMq1Omoa"
      }
    },
    {
      "cell_type": "code",
      "source": [
        "params_lgbm = {\n",
        "    'metric': 'binary_logloss',\n",
        "    'objective':'binary',\n",
        "    'learning_rate': 0.05,\n",
        "    'max_depth': 2,\n",
        "    'n_estimators': 1000\n",
        "}\n",
        "model_lgbm = lightgbm.LGBMClassifier(**params_lgbm)\n",
        "model_lgbm.fit(X, y)\n",
        "\n",
        "y_pred = model_lgbm.predict_proba(test_df)\n",
        "res = [x[1] for x in y_pred]\n",
        "\n",
        "\n",
        "submission_lgbm = pd.DataFrame(index=data_test.index)\n",
        "submission_lgbm['probability'] = res\n",
        "submission_lgbm = submission_lgbm.reset_index()"
      ],
      "metadata": {
        "colab": {
          "base_uri": "https://localhost:8080/",
          "height": 92
        },
        "id": "j97RSuZ7Nzaj",
        "outputId": "d4092c13-c601-4e2f-f6d7-a2cf3269eef9"
      },
      "execution_count": null,
      "outputs": [
        {
          "output_type": "execute_result",
          "data": {
            "text/plain": [
              "LGBMClassifier(learning_rate=0.05, max_depth=2, metric='binary_logloss',\n",
              "               n_estimators=1000, objective='binary')"
            ],
            "text/html": [
              "<style>#sk-container-id-2 {color: black;background-color: white;}#sk-container-id-2 pre{padding: 0;}#sk-container-id-2 div.sk-toggleable {background-color: white;}#sk-container-id-2 label.sk-toggleable__label {cursor: pointer;display: block;width: 100%;margin-bottom: 0;padding: 0.3em;box-sizing: border-box;text-align: center;}#sk-container-id-2 label.sk-toggleable__label-arrow:before {content: \"▸\";float: left;margin-right: 0.25em;color: #696969;}#sk-container-id-2 label.sk-toggleable__label-arrow:hover:before {color: black;}#sk-container-id-2 div.sk-estimator:hover label.sk-toggleable__label-arrow:before {color: black;}#sk-container-id-2 div.sk-toggleable__content {max-height: 0;max-width: 0;overflow: hidden;text-align: left;background-color: #f0f8ff;}#sk-container-id-2 div.sk-toggleable__content pre {margin: 0.2em;color: black;border-radius: 0.25em;background-color: #f0f8ff;}#sk-container-id-2 input.sk-toggleable__control:checked~div.sk-toggleable__content {max-height: 200px;max-width: 100%;overflow: auto;}#sk-container-id-2 input.sk-toggleable__control:checked~label.sk-toggleable__label-arrow:before {content: \"▾\";}#sk-container-id-2 div.sk-estimator input.sk-toggleable__control:checked~label.sk-toggleable__label {background-color: #d4ebff;}#sk-container-id-2 div.sk-label input.sk-toggleable__control:checked~label.sk-toggleable__label {background-color: #d4ebff;}#sk-container-id-2 input.sk-hidden--visually {border: 0;clip: rect(1px 1px 1px 1px);clip: rect(1px, 1px, 1px, 1px);height: 1px;margin: -1px;overflow: hidden;padding: 0;position: absolute;width: 1px;}#sk-container-id-2 div.sk-estimator {font-family: monospace;background-color: #f0f8ff;border: 1px dotted black;border-radius: 0.25em;box-sizing: border-box;margin-bottom: 0.5em;}#sk-container-id-2 div.sk-estimator:hover {background-color: #d4ebff;}#sk-container-id-2 div.sk-parallel-item::after {content: \"\";width: 100%;border-bottom: 1px solid gray;flex-grow: 1;}#sk-container-id-2 div.sk-label:hover label.sk-toggleable__label {background-color: #d4ebff;}#sk-container-id-2 div.sk-serial::before {content: \"\";position: absolute;border-left: 1px solid gray;box-sizing: border-box;top: 0;bottom: 0;left: 50%;z-index: 0;}#sk-container-id-2 div.sk-serial {display: flex;flex-direction: column;align-items: center;background-color: white;padding-right: 0.2em;padding-left: 0.2em;position: relative;}#sk-container-id-2 div.sk-item {position: relative;z-index: 1;}#sk-container-id-2 div.sk-parallel {display: flex;align-items: stretch;justify-content: center;background-color: white;position: relative;}#sk-container-id-2 div.sk-item::before, #sk-container-id-2 div.sk-parallel-item::before {content: \"\";position: absolute;border-left: 1px solid gray;box-sizing: border-box;top: 0;bottom: 0;left: 50%;z-index: -1;}#sk-container-id-2 div.sk-parallel-item {display: flex;flex-direction: column;z-index: 1;position: relative;background-color: white;}#sk-container-id-2 div.sk-parallel-item:first-child::after {align-self: flex-end;width: 50%;}#sk-container-id-2 div.sk-parallel-item:last-child::after {align-self: flex-start;width: 50%;}#sk-container-id-2 div.sk-parallel-item:only-child::after {width: 0;}#sk-container-id-2 div.sk-dashed-wrapped {border: 1px dashed gray;margin: 0 0.4em 0.5em 0.4em;box-sizing: border-box;padding-bottom: 0.4em;background-color: white;}#sk-container-id-2 div.sk-label label {font-family: monospace;font-weight: bold;display: inline-block;line-height: 1.2em;}#sk-container-id-2 div.sk-label-container {text-align: center;}#sk-container-id-2 div.sk-container {/* jupyter's `normalize.less` sets `[hidden] { display: none; }` but bootstrap.min.css set `[hidden] { display: none !important; }` so we also need the `!important` here to be able to override the default hidden behavior on the sphinx rendered scikit-learn.org. See: https://github.com/scikit-learn/scikit-learn/issues/21755 */display: inline-block !important;position: relative;}#sk-container-id-2 div.sk-text-repr-fallback {display: none;}</style><div id=\"sk-container-id-2\" class=\"sk-top-container\"><div class=\"sk-text-repr-fallback\"><pre>LGBMClassifier(learning_rate=0.05, max_depth=2, metric=&#x27;binary_logloss&#x27;,\n",
              "               n_estimators=1000, objective=&#x27;binary&#x27;)</pre><b>In a Jupyter environment, please rerun this cell to show the HTML representation or trust the notebook. <br />On GitHub, the HTML representation is unable to render, please try loading this page with nbviewer.org.</b></div><div class=\"sk-container\" hidden><div class=\"sk-item\"><div class=\"sk-estimator sk-toggleable\"><input class=\"sk-toggleable__control sk-hidden--visually\" id=\"sk-estimator-id-2\" type=\"checkbox\" checked><label for=\"sk-estimator-id-2\" class=\"sk-toggleable__label sk-toggleable__label-arrow\">LGBMClassifier</label><div class=\"sk-toggleable__content\"><pre>LGBMClassifier(learning_rate=0.05, max_depth=2, metric=&#x27;binary_logloss&#x27;,\n",
              "               n_estimators=1000, objective=&#x27;binary&#x27;)</pre></div></div></div></div></div>"
            ]
          },
          "metadata": {},
          "execution_count": 25
        }
      ]
    },
    {
      "cell_type": "markdown",
      "source": [
        "To increase ROC AUC score on the private dataset, we blend two submissions together, applying weighted mean. XGBoost model give a slightly better score"
      ],
      "metadata": {
        "id": "3MYnFkvrO2rD"
      }
    },
    {
      "cell_type": "code",
      "source": [
        "XGB_W = 0.55\n",
        "LGBM_W = 1 - XGB_W\n",
        "def blending(sub1, sub2, w1, w2):\n",
        "    res = sub1.copy()\n",
        "    res['probability'] = w1*sub1['probability'] + w2*sub2['probability']\n",
        "    res['cid'] = res['cid'].astype(int)\n",
        "    return res\n",
        "blending(submission_xgb, submission_lgbm, XGB_W, LGBM_W).to_csv('submission.csv', index=False)"
      ],
      "metadata": {
        "id": "YZIswwikrc8J"
      },
      "execution_count": null,
      "outputs": []
    },
    {
      "cell_type": "markdown",
      "metadata": {
        "id": "DoF2GoB_QGw9"
      },
      "source": [
        "<font size=5>⌛</font> <strong><font color=green size=5>Do not exceed competition's runtime limit! Do not write code outside TGP</font></strong>\n",
        "<hr color=green size=40>"
      ]
    },
    {
      "cell_type": "code",
      "execution_count": null,
      "metadata": {
        "colab": {
          "base_uri": "https://localhost:8080/"
        },
        "id": "nosV1OWFJPx5",
        "outputId": "935a10da-4dd3-4c93-f989-91e3c9ff1578"
      },
      "outputs": [
        {
          "output_type": "stream",
          "name": "stdout",
          "text": [
            "Runtime is 74 sec\n"
          ]
        }
      ],
      "source": [
        "tmr.ShowTime()    # measure Colab's runtime. Do not remove. Keep as the last cell in your notebook."
      ]
    }
  ],
  "metadata": {
    "colab": {
      "provenance": [],
      "gpuType": "T4"
    },
    "kernelspec": {
      "display_name": "Python 3",
      "name": "python3"
    },
    "language_info": {
      "name": "python"
    },
    "accelerator": "GPU"
  },
  "nbformat": 4,
  "nbformat_minor": 0
}